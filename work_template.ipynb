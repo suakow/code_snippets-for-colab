{
  "nbformat": 4,
  "nbformat_minor": 0,
  "metadata": {
    "colab": {
      "name": "work_template.ipynb",
      "provenance": [],
      "collapsed_sections": [],
      "toc_visible": true,
      "authorship_tag": "ABX9TyOwhs292dkZ9wd/NgCAwwue"
    },
    "kernelspec": {
      "name": "python3",
      "display_name": "Python 3"
    }
  },
  "cells": [
    {
      "cell_type": "markdown",
      "metadata": {
        "id": "a2sUBqRR11gH"
      },
      "source": [
        "# 8[NLP] Install Hugginface-Transformers"
      ]
    },
    {
      "cell_type": "code",
      "metadata": {
        "id": "aM5adpnp1xHu"
      },
      "source": [
        "! pip install git+https://github.com/huggingface/transformers.git"
      ],
      "execution_count": null,
      "outputs": []
    },
    {
      "cell_type": "markdown",
      "metadata": {
        "id": "V_y1qUXjUJhU"
      },
      "source": [
        "# 8[NLP] PyThaiNLP : Tokenization - Newmm"
      ]
    },
    {
      "cell_type": "code",
      "metadata": {
        "id": "Bc5eEqTCUP5X"
      },
      "source": [
        "! pip install pythainlp"
      ],
      "execution_count": null,
      "outputs": []
    },
    {
      "cell_type": "code",
      "metadata": {
        "id": "erjEm1GEUTPW"
      },
      "source": [
        "from pythainlp.tokenize import word_tokenize"
      ],
      "execution_count": null,
      "outputs": []
    },
    {
      "cell_type": "code",
      "metadata": {
        "id": "4WS9n4j_ZkQV"
      },
      "source": [
        "tokenize = word_tokenize(string_var)"
      ],
      "execution_count": null,
      "outputs": []
    },
    {
      "cell_type": "markdown",
      "metadata": {
        "id": "RZdaET2NUe6C"
      },
      "source": [
        "#8[NLP] Dictionary and Reverse Dictionary"
      ]
    },
    {
      "cell_type": "code",
      "metadata": {
        "id": "QZUhxI79UoI2"
      },
      "source": [
        "CHARS = [\n",
        "  '\\n', ' ', '!', '\"', '#', '$', '%', '&', \"'\", '(', ')', '*', '+',\n",
        "  ',', '-', '.', '/', '0', '1', '2', '3', '4', '5', '6', '7', '8',\n",
        "  '9', ':', ';', '<', '=', '>', '?', '@', 'A', 'B', 'C', 'D', 'E',\n",
        "  'F', 'G', 'H', 'I', 'J', 'K', 'L', 'M', 'N', 'O', 'P', 'Q', 'R',\n",
        "  'S', 'T', 'U', 'V', 'W', 'X', 'Y', 'Z', '[', '\\\\', ']', '^', '_',\n",
        "  'a', 'b', 'c', 'd', 'e', 'f', 'g', 'h', 'i', 'j', 'k', 'l', 'm',\n",
        "  'n', 'o', 'other', 'p', 'q', 'r', 's', 't', 'u', 'v', 'w', 'x', 'y',\n",
        "  'z', '}', '~', 'ก', 'ข', 'ฃ', 'ค', 'ฅ', 'ฆ', 'ง', 'จ', 'ฉ', 'ช',\n",
        "  'ซ', 'ฌ', 'ญ', 'ฎ', 'ฏ', 'ฐ', 'ฑ', 'ฒ', 'ณ', 'ด', 'ต', 'ถ', 'ท',\n",
        "  'ธ', 'น', 'บ', 'ป', 'ผ', 'ฝ', 'พ', 'ฟ', 'ภ', 'ม', 'ย', 'ร', 'ฤ',\n",
        "  'ล', 'ว', 'ศ', 'ษ', 'ส', 'ห', 'ฬ', 'อ', 'ฮ', 'ฯ', 'ะ', 'ั', 'า',\n",
        "  'ำ', 'ิ', 'ี', 'ึ', 'ื', 'ุ', 'ู', 'ฺ', 'เ', 'แ', 'โ', 'ใ', 'ไ',\n",
        "  'ๅ', 'ๆ', '็', '่', '้', '๊', '๋', '์', 'ํ', '๐', '๑', '๒', '๓',\n",
        "  '๔', '๕', '๖', '๗', '๘', '๙', '‘', '’', '\\ufeff'\n",
        "]\n",
        "\n",
        "CHARS_MAP = {v: k for k, v in enumerate(CHARS)}"
      ],
      "execution_count": 1,
      "outputs": []
    },
    {
      "cell_type": "code",
      "metadata": {
        "id": "yvuQSrWYZZzb"
      },
      "source": [
        "REVERSE_CHARS_MAP = dict(zip(CHARS_MAP.values(), CHARS_MAP.keys()))"
      ],
      "execution_count": null,
      "outputs": []
    },
    {
      "cell_type": "markdown",
      "metadata": {
        "id": "exjRTEvnZt61"
      },
      "source": [
        "# 8[NLP] Word Dictionary and Reverse Dictionary"
      ]
    },
    {
      "cell_type": "code",
      "metadata": {
        "id": "SbrOISHKZ0g3"
      },
      "source": [
        "word_dict = {}\n",
        "word_dict['<pad>'] = 0\n",
        "word_dict['<end>'] = 1\n",
        "\n",
        "for char in word_list :\n",
        "    if char not in word_dict :\n",
        "        word_dict[char] = len(word_dict)\n",
        "\n",
        "word_dict['<unk>'] = len(word_dict)"
      ],
      "execution_count": null,
      "outputs": []
    },
    {
      "cell_type": "code",
      "metadata": {
        "id": "sBcq4MH_aH_5"
      },
      "source": [
        "reverse_word_dict = dict(zip(word_dict.values(), word_dict.keys()))"
      ],
      "execution_count": null,
      "outputs": []
    },
    {
      "cell_type": "markdown",
      "metadata": {
        "id": "PpVfmQEwaZKe"
      },
      "source": [
        "# 8[NLP] PyThaiNLP : Text normalization"
      ]
    },
    {
      "cell_type": "code",
      "metadata": {
        "id": "u1PdgtPZaf-b"
      },
      "source": [
        "! pip install pythainlp"
      ],
      "execution_count": null,
      "outputs": []
    },
    {
      "cell_type": "code",
      "metadata": {
        "id": "ptrvm65bafCE"
      },
      "source": [
        "from pythainlp.util import normalize"
      ],
      "execution_count": null,
      "outputs": []
    },
    {
      "cell_type": "code",
      "metadata": {
        "id": "slzDe3Gkahyl"
      },
      "source": [
        "text_str = normalize(text_str)"
      ],
      "execution_count": null,
      "outputs": []
    }
  ]
}